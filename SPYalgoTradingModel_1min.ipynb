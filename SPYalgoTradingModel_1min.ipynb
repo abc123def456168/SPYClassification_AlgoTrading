{
  "nbformat": 4,
  "nbformat_minor": 0,
  "metadata": {
    "colab": {
      "name": "SPYalgoTradingModel_1min",
      "provenance": [],
      "collapsed_sections": [],
      "toc_visible": true,
      "machine_shape": "hm"
    },
    "kernelspec": {
      "name": "python3",
      "display_name": "Python 3"
    },
    "accelerator": "TPU"
  },
  "cells": [
    {
      "cell_type": "markdown",
      "metadata": {
        "id": "RJ0tkXWY834V",
        "colab_type": "text"
      },
      "source": [
        "## Set Up"
      ]
    },
    {
      "cell_type": "code",
      "metadata": {
        "id": "8UcJRGrz1s0R",
        "colab_type": "code",
        "colab": {}
      },
      "source": [
        "#Initialize TPY\n",
        "import tensorflow as tf\n",
        "import os\n",
        "resolver = tf.distribute.cluster_resolver.TPUClusterResolver(tpu='grpc://' + os.environ['COLAB_TPU_ADDR'])\n",
        "tf.config.experimental_connect_to_cluster(resolver)\n",
        "# This is the TPU initialization code that has to be at the beginning.\n",
        "tf.tpu.experimental.initialize_tpu_system(resolver)\n",
        "strategy = tf.distribute.experimental.TPUStrategy(resolver)"
      ],
      "execution_count": 0,
      "outputs": []
    },
    {
      "cell_type": "code",
      "metadata": {
        "id": "vKdLDmSo8t6u",
        "colab_type": "code",
        "colab": {}
      },
      "source": [
        "#Code to install necessary libraries and perform authorization\n",
        "!apt-get install -y -qq software-properties-common python-software-properties module-init-tools\n",
        "!add-apt-repository -y ppa:alessandro-strada/ppa 2>&1 > /dev/null\n",
        "!apt-get update -qq 2>&1 > /dev/null\n",
        "!apt-get -y install -qq google-drive-ocamlfuse fuse\n",
        "from google.colab import auth\n",
        "auth.authenticate_user()\n",
        "from oauth2client.client import GoogleCredentials\n",
        "creds = GoogleCredentials.get_application_default()\n",
        "import getpass\n",
        "!google-drive-ocamlfuse -headless -id={creds.client_id} -secret={creds.client_secret} < /dev/null 2>&1 | grep URL\n",
        "vcode = getpass.getpass()\n",
        "!echo {vcode} | google-drive-ocamlfuse -headless -id={creds.client_id} -secret={creds.client_secret}\n",
        "\n",
        "#Mount google drive \n",
        "!mkdir -p drive \n",
        "!google-drive-ocamlfuse drive\n",
        "\n",
        "#Path\n",
        "import os\n",
        "os.chdir('/content/drive/sp500AlgoTrading_Classification')"
      ],
      "execution_count": 0,
      "outputs": []
    },
    {
      "cell_type": "markdown",
      "metadata": {
        "id": "e1pHfrahPaUm",
        "colab_type": "text"
      },
      "source": [
        "## Data Exploration\n",
        "Training and validation data consists of intraday by minute data from 09/14/2009 to 4/24/2020."
      ]
    },
    {
      "cell_type": "code",
      "metadata": {
        "id": "ImYhj-nuvq2t",
        "colab_type": "code",
        "colab": {}
      },
      "source": [
        "import pandas as pd\n",
        "import numpy as np\n",
        "import datetime as dt\n",
        "import plotly.express as px\n",
        "import plotly.graph_objects as go\n",
        "import matplotlib.pyplot as plt\n",
        "from numpy import array"
      ],
      "execution_count": 0,
      "outputs": []
    },
    {
      "cell_type": "code",
      "metadata": {
        "id": "WaAI_AhTwS5F",
        "colab_type": "code",
        "colab": {}
      },
      "source": [
        "df = pd.read_csv('SPYTrainValData.csv')\n",
        "df.head()"
      ],
      "execution_count": 0,
      "outputs": []
    },
    {
      "cell_type": "code",
      "metadata": {
        "id": "3zp3CCgrpX0l",
        "colab_type": "code",
        "colab": {}
      },
      "source": [
        "#Reverse data so oldest date is first\n",
        "df = df.sort_index(ascending=True, axis=0)\n",
        "df = df.reindex(index=df.index[::-1])\n",
        "df.head()"
      ],
      "execution_count": 0,
      "outputs": []
    },
    {
      "cell_type": "markdown",
      "metadata": {
        "id": "EIoyJ3zD96xE",
        "colab_type": "text"
      },
      "source": [
        "## Data Exploration - Interactive Price Graph"
      ]
    },
    {
      "cell_type": "code",
      "metadata": {
        "id": "onYHcgd3CBB1",
        "colab_type": "code",
        "colab": {}
      },
      "source": [
        "#Interactive S&P500 Price Graph\n",
        "\n",
        "fig = px.line(df, x='Time', y='Last', title='S&P500 Price Evolution', height = 800)\n",
        "fig.update_xaxes(\n",
        "    rangeslider_visible=True,\n",
        "    rangeselector=dict(\n",
        "        buttons=list([\n",
        "            dict(count=1, label=\"1m\", step=\"month\", stepmode=\"backward\"),\n",
        "            dict(count=6, label=\"6m\", step=\"month\", stepmode=\"backward\"),\n",
        "            dict(count=1, label=\"YTD\", step=\"year\", stepmode=\"todate\"),\n",
        "            dict(count=1, label=\"1y\", step=\"year\", stepmode=\"backward\"),\n",
        "            dict(step=\"all\")\n",
        "        ])\n",
        "    )\n",
        ")\n",
        "fig.show()"
      ],
      "execution_count": 0,
      "outputs": []
    },
    {
      "cell_type": "markdown",
      "metadata": {
        "id": "-52fVWBUP09u",
        "colab_type": "text"
      },
      "source": [
        "## Data Exploration - Interactive Volume Graph"
      ]
    },
    {
      "cell_type": "code",
      "metadata": {
        "id": "rbaRgOqi3Idl",
        "colab_type": "code",
        "colab": {}
      },
      "source": [
        "#Interactive S&P500 Volume Graph\n",
        "\n",
        "fig = px.line(df, x='Time', y='Volume', title='S&P500 Volume Evolution', height = 800)\n",
        "fig.update_xaxes(\n",
        "    rangeslider_visible=True,\n",
        "    rangeselector=dict(\n",
        "        buttons=list([\n",
        "            dict(count=1, label=\"1m\", step=\"month\", stepmode=\"backward\"),\n",
        "            dict(count=6, label=\"6m\", step=\"month\", stepmode=\"backward\"),\n",
        "            dict(count=1, label=\"YTD\", step=\"year\", stepmode=\"todate\"),\n",
        "            dict(count=1, label=\"1y\", step=\"year\", stepmode=\"backward\"),\n",
        "            dict(step=\"all\")\n",
        "        ])\n",
        "    )\n",
        ")\n",
        "fig.show()"
      ],
      "execution_count": 0,
      "outputs": []
    },
    {
      "cell_type": "markdown",
      "metadata": {
        "id": "y7HBzw1LjNoh",
        "colab_type": "text"
      },
      "source": [
        "## Data Processing - Creating a label\n",
        "Let current period be A and next period be B. If B's change is lower than or equal to 0 we assign a 0. If greater than 0 we assign a 1. This integer assignment will be A's label. This way each period's label will tell us the classification of the next period's price movement. This will require removal of latest period in dataset as that period does not have a classification (has not occured yet) and will be what we attempt to predict."
      ]
    },
    {
      "cell_type": "code",
      "metadata": {
        "id": "3tJJGMk5jM4A",
        "colab_type": "code",
        "colab": {}
      },
      "source": [
        "#Change the \"Change\" column to binary\n",
        "conditions = [df['Change'] <= 0, df['Change'] > 0]\n",
        "choices = [0, 1]\n",
        "df['Change'] = np.select(conditions, choices)\n",
        "df.tail()"
      ],
      "execution_count": 0,
      "outputs": []
    },
    {
      "cell_type": "code",
      "metadata": {
        "id": "O79EmuEttZH1",
        "colab_type": "code",
        "colab": {}
      },
      "source": [
        "#Shift the \"Change\" column up\n",
        "df['Change'] = df['Change'].shift(-1)\n",
        "df.tail()"
      ],
      "execution_count": 0,
      "outputs": []
    },
    {
      "cell_type": "code",
      "metadata": {
        "id": "OBOqKT9OvHRv",
        "colab_type": "code",
        "colab": {}
      },
      "source": [
        "#Change name from \"Change\" to \"Target\" and drop last row\n",
        "df = df.drop(df.tail(1).index)\n",
        "df['Target'] = df['Change']\n",
        "df = df[['Time', 'Open', 'High', 'Low', 'Last', 'Volume', 'Target']]\n",
        "df.tail()"
      ],
      "execution_count": 0,
      "outputs": []
    },
    {
      "cell_type": "code",
      "metadata": {
        "id": "it13Gn9D2_Uk",
        "colab_type": "code",
        "colab": {}
      },
      "source": [
        "#Label frequency\n",
        "labels=\"0\",\"1\"\n",
        "sizes=[sum(df[\"Target\"]==0),sum(df[\"Target\"]==1)]\n",
        "colors=[\"red\",\"green\"]\n",
        "plt.pie(sizes, labels=labels, colors=colors, autopct='%1.1f%%',startangle=90)\n",
        "plt.axis('equal')\n",
        "plt.show()"
      ],
      "execution_count": 0,
      "outputs": []
    },
    {
      "cell_type": "markdown",
      "metadata": {
        "id": "EQHxZ2BN5SnK",
        "colab_type": "text"
      },
      "source": [
        "## Data Processing - Feature Engineering\n",
        "\n",
        "Implement three different technical indicators for predictive features. We will use one trend following, one momentum, and one volume indicator in order to create a multi-indicator strategy. These features will be created using the Techinical Analysis Library.\n",
        "- trend following: bollinger bands\n",
        "- momentum: relative strength index\n",
        "- volume: on balance volume"
      ]
    },
    {
      "cell_type": "code",
      "metadata": {
        "id": "yd5DEaXM5RhA",
        "colab_type": "code",
        "colab": {}
      },
      "source": [
        "!pip install ta\n",
        "import ta "
      ],
      "execution_count": 0,
      "outputs": []
    },
    {
      "cell_type": "code",
      "metadata": {
        "id": "m6xqy8YKE6vU",
        "colab_type": "code",
        "colab": {}
      },
      "source": [
        "#Initialize Bollinger Bands\n",
        "indicator_bb = ta.volatility.BollingerBands(close = df[\"Last\"], n=20, ndev=2)\n",
        "\n",
        "#Add Bollinger Bands features\n",
        "df['bbMAV'] = indicator_bb.bollinger_mavg()\n",
        "df['bbHiBand'] = indicator_bb.bollinger_hband()\n",
        "df['bbLoBand'] = indicator_bb.bollinger_lband()"
      ],
      "execution_count": 0,
      "outputs": []
    },
    {
      "cell_type": "code",
      "metadata": {
        "id": "i_xK-OfFGRso",
        "colab_type": "code",
        "colab": {}
      },
      "source": [
        "#Initialize Relative Strength Index\n",
        "indicator_rsi = ta.momentum.RSIIndicator(close = df[\"Last\"], n = 14, fillna = False)\n",
        "\n",
        "#Add Relative Strength Index feature\n",
        "df['RSI'] = indicator_rsi.rsi()"
      ],
      "execution_count": 0,
      "outputs": []
    },
    {
      "cell_type": "code",
      "metadata": {
        "id": "lB1oIhFQHS3_",
        "colab_type": "code",
        "colab": {}
      },
      "source": [
        "#Initialize On Balance Volume\n",
        "indicator_obv = ta.volume.OnBalanceVolumeIndicator(close = df['Last'], volume = df['Volume'], fillna = False)\n",
        "\n",
        "#Add On Balance Volume feature\n",
        "df['OBV'] = indicator_obv.on_balance_volume()"
      ],
      "execution_count": 0,
      "outputs": []
    },
    {
      "cell_type": "code",
      "metadata": {
        "id": "0Bpi7-eqIjTp",
        "colab_type": "code",
        "colab": {}
      },
      "source": [
        "df.head()"
      ],
      "execution_count": 0,
      "outputs": []
    },
    {
      "cell_type": "markdown",
      "metadata": {
        "id": "9QHTj4p-eCvM",
        "colab_type": "text"
      },
      "source": [
        "## Data Processing - Cleaning Data\n",
        "Break apart time column into 6 different seperate columns, each column will be a piece of the date or time."
      ]
    },
    {
      "cell_type": "code",
      "metadata": {
        "id": "9P9RFsQoev8q",
        "colab_type": "code",
        "colab": {}
      },
      "source": [
        "df['Date'] = pd.to_datetime(df['Time'], yearfirst = True, format = '%m/%d/%Y %H:%M')\n",
        "df['Year'] = df['Date'].dt.year\n",
        "df['Month'] = df['Date'].dt.month\n",
        "df['Day'] = df['Date'].dt.day\n",
        "df['Hour'] = df['Date'].dt.hour\n",
        "df['Minute'] = df['Date'].dt.minute"
      ],
      "execution_count": 0,
      "outputs": []
    },
    {
      "cell_type": "code",
      "metadata": {
        "id": "CYzPH0Xqtn9d",
        "colab_type": "code",
        "colab": {}
      },
      "source": [
        "#Drop \"Time\" column for further analysis\n",
        "df = df[['Year', 'Month', 'Day', 'Hour','Minute', 'Open', 'High', 'Low', 'Last', 'Volume', 'bbMAV', 'bbHiBand', 'bbLoBand', 'RSI', 'OBV', 'Target']]\n",
        "df.head()"
      ],
      "execution_count": 0,
      "outputs": []
    },
    {
      "cell_type": "markdown",
      "metadata": {
        "id": "uwtUzCCuDUcl",
        "colab_type": "text"
      },
      "source": [
        "## Data Preparation for Model"
      ]
    },
    {
      "cell_type": "code",
      "metadata": {
        "id": "slQNpBHE0i7u",
        "colab_type": "code",
        "colab": {}
      },
      "source": [
        "df.head()"
      ],
      "execution_count": 0,
      "outputs": []
    },
    {
      "cell_type": "code",
      "metadata": {
        "id": "4_rzT3tNOZCP",
        "colab_type": "code",
        "colab": {}
      },
      "source": [
        "#Scale values to between 0 and 1 for easier training\n",
        "from sklearn.preprocessing import StandardScaler, MinMaxScaler\n",
        "scaledFeatures =  MinMaxScaler().fit_transform(df)\n",
        "df = pd.DataFrame(scaledFeatures, columns = ['Year', 'Month', 'Day', 'Hour','Minute', 'Open', 'High', 'Low', 'Last', 'Volume', 'bbMAV', 'bbHiBand', 'bbLoBand', 'RSI', 'OBV', 'Target'])"
      ],
      "execution_count": 0,
      "outputs": []
    },
    {
      "cell_type": "code",
      "metadata": {
        "id": "pfcSnrtq2W9N",
        "colab_type": "code",
        "colab": {}
      },
      "source": [
        "#Look at min and max \n",
        "df.describe()"
      ],
      "execution_count": 0,
      "outputs": []
    },
    {
      "cell_type": "code",
      "metadata": {
        "id": "viyImUxNMrXd",
        "colab_type": "code",
        "colab": {}
      },
      "source": [
        "dataset = df.values\n",
        "print(dataset)\n",
        "print(len(dataset))"
      ],
      "execution_count": 0,
      "outputs": []
    },
    {
      "cell_type": "code",
      "metadata": {
        "id": "0S-hmlKMsqYb",
        "colab_type": "code",
        "colab": {}
      },
      "source": [
        "#Split a multivariate sequence into samples\n",
        "def split_sequences(sequences, n_steps):\n",
        "\tX, y = list(), list()\n",
        "\tfor i in range(len(sequences)):\n",
        "\t\t#Find the end of this pattern\n",
        "\t\tend_ix = i + n_steps\n",
        "\t\t#Check if we are beyond the dataset\n",
        "\t\tif end_ix > len(sequences):\n",
        "\t\t\tbreak\n",
        "\t\t#Gather input and output parts of the pattern\n",
        "\t\tseq_x, seq_y = sequences[i:end_ix, :-1], sequences[end_ix-1, -1]\n",
        "\t\tX.append(seq_x)\n",
        "\t\ty.append(seq_y)\n",
        "\treturn array(X), array(y)"
      ],
      "execution_count": 0,
      "outputs": []
    },
    {
      "cell_type": "code",
      "metadata": {
        "id": "kK-CxRSW2RBh",
        "colab_type": "code",
        "colab": {}
      },
      "source": [
        "#Choose a number of time steps\n",
        "n_steps = 5\n",
        "#Split into samples\n",
        "X, y = split_sequences(dataset, n_steps)\n",
        "\n",
        "print(X)\n",
        "print(y)"
      ],
      "execution_count": 0,
      "outputs": []
    },
    {
      "cell_type": "code",
      "metadata": {
        "id": "qh1ec2wnxyXx",
        "colab_type": "code",
        "colab": {}
      },
      "source": [
        "#Reshape from [samples, timesteps] into [samples, batch, timesteps, features]\n",
        "n_features = 15\n",
        "batch = 1\n",
        "n_steps = 5\n",
        "X = X.reshape((X.shape[0], batch, n_steps, n_features))\n",
        "print(X.shape)\n",
        "print(len(X))\n",
        "print(len(y))"
      ],
      "execution_count": 0,
      "outputs": []
    },
    {
      "cell_type": "code",
      "metadata": {
        "id": "3WtKggc9-RJD",
        "colab_type": "code",
        "colab": {}
      },
      "source": [
        "#Creating train, validation, and test sets\n",
        "#Test set is the last day in data set 4/24/2020\n",
        "lenTrain= 1038000\n",
        "X_train, X_val = X[:lenTrain], X[lenTrain:]\n",
        "y_train, y_val = y[:lenTrain], y[lenTrain:]"
      ],
      "execution_count": 0,
      "outputs": []
    },
    {
      "cell_type": "markdown",
      "metadata": {
        "id": "30Gyc64b3wCC",
        "colab_type": "text"
      },
      "source": [
        "## Model - Building\n",
        "Academic Literature suggests a combination of LSTMs and CNNs will provide best results for time series classification."
      ]
    },
    {
      "cell_type": "code",
      "metadata": {
        "id": "s6QlSaxpJITU",
        "colab_type": "code",
        "colab": {}
      },
      "source": [
        "!pip install pyyaml h5py  # Required to save models in HDF5 format"
      ],
      "execution_count": 0,
      "outputs": []
    },
    {
      "cell_type": "code",
      "metadata": {
        "id": "AwtUHD9dDW-f",
        "colab_type": "code",
        "colab": {}
      },
      "source": [
        "from keras.models import Sequential\n",
        "from keras.layers import Dense\n",
        "from keras.layers import LSTM\n",
        "from keras.layers import Conv1D\n",
        "from keras.layers import TimeDistributed\n",
        "from keras.layers import MaxPooling1D\n",
        "from keras.layers import Flatten\n",
        "from keras.callbacks import ModelCheckpoint\n",
        "from sklearn.metrics import precision_score\n",
        "from sklearn.metrics import recall_score"
      ],
      "execution_count": 0,
      "outputs": []
    },
    {
      "cell_type": "code",
      "metadata": {
        "id": "ASFQeglF5ypn",
        "colab_type": "code",
        "colab": {}
      },
      "source": [
        "model = Sequential()\n",
        "model.add(TimeDistributed(Conv1D(filters = 128, kernel_size = 8, padding='same', activation = 'relu', kernel_initializer='he_uniform'), input_shape=(batch, n_steps, n_features)))\n",
        "model.add(TimeDistributed(Conv1D(filters = 256, kernel_size = 8, padding='same', activation = 'relu', kernel_initializer='he_uniform')))\n",
        "model.add(TimeDistributed(Conv1D(filters = 128, kernel_size = 8, padding='same', activation = 'relu', kernel_initializer='he_uniform')))\n",
        "model.add(TimeDistributed(MaxPooling1D(pool_size = 2, data_format = 'channels_last')))\n",
        "model.add(TimeDistributed(Flatten()))\n",
        "model.add(LSTM(64, activation='relu', dropout = .8, return_sequences = True))\n",
        "model.add(LSTM(32, activation='relu', dropout = .8, return_sequences = True))\n",
        "model.add(LSTM(16, activation='relu', dropout = .8))\n",
        "model.add(Dense(1))"
      ],
      "execution_count": 0,
      "outputs": []
    },
    {
      "cell_type": "code",
      "metadata": {
        "id": "drp1cAkA59On",
        "colab_type": "code",
        "colab": {}
      },
      "source": [
        "#model.load_weights('/content/drive/sp500AlgoTrading_Classification/weights/01-0.6953.hd5')"
      ],
      "execution_count": 0,
      "outputs": []
    },
    {
      "cell_type": "code",
      "metadata": {
        "id": "_J1Ze5SpHzK0",
        "colab_type": "code",
        "colab": {}
      },
      "source": [
        "ckpt_callback = ModelCheckpoint(filepath='/content/drive/sp500AlgoTrading_Classification/weights/{epoch:02d}-{val_loss:.4f}.hd5', monitor = 'val_loss', mode = 'min', save_best_only = True, verbose=1)\n",
        "model.compile(optimizer = 'adam', loss='binary_crossentropy' , metrics=['accuracy'])"
      ],
      "execution_count": 0,
      "outputs": []
    },
    {
      "cell_type": "code",
      "metadata": {
        "id": "bWgsMFmUK7iw",
        "colab_type": "code",
        "colab": {}
      },
      "source": [
        "model.summary()"
      ],
      "execution_count": 0,
      "outputs": []
    },
    {
      "cell_type": "markdown",
      "metadata": {
        "id": "PWoN7ErKPXe_",
        "colab_type": "text"
      },
      "source": [
        "## Model - Training"
      ]
    },
    {
      "cell_type": "code",
      "metadata": {
        "id": "PknGamZnwQO1",
        "colab_type": "code",
        "colab": {}
      },
      "source": [
        "model.fit(X_train, y_train, epochs=500, validation_data=(X_val,y_val), callbacks=[ckpt_callback])"
      ],
      "execution_count": 0,
      "outputs": []
    },
    {
      "cell_type": "markdown",
      "metadata": {
        "id": "3Eg-JtCkbLYL",
        "colab_type": "text"
      },
      "source": [
        "## Model - Testing\n",
        "Testing data consists of intraday by minute data from 4/27/2020 to 4/30/2020."
      ]
    },
    {
      "cell_type": "code",
      "metadata": {
        "id": "eC7eTLBObSWk",
        "colab_type": "code",
        "colab": {}
      },
      "source": [
        "dftest = pd.read_csv('SPYTestData.csv')"
      ],
      "execution_count": 0,
      "outputs": []
    },
    {
      "cell_type": "code",
      "metadata": {
        "id": "V7sjiJX8cwTg",
        "colab_type": "code",
        "colab": {}
      },
      "source": [
        "#Reordering\n",
        "dftest = dftest.sort_index(ascending=True, axis=0)\n",
        "dftest = dftest.reindex(index=dftest.index[::-1])\n",
        "dftest = dftest.drop(dftest.index[0])\n",
        "dftest.head()"
      ],
      "execution_count": 0,
      "outputs": []
    },
    {
      "cell_type": "code",
      "metadata": {
        "id": "IKNhtdLaejcz",
        "colab_type": "code",
        "colab": {}
      },
      "source": [
        "#Creating Label\n",
        "conditions = [dftest['Change'] <= 0, dftest['Change'] > 0]\n",
        "choices = [0, 1]\n",
        "dftest['Change'] = np.select(conditions, choices)\n",
        "dftest['Change'] = dftest['Change'].shift(-1)\n",
        "dftest = dftest.drop(dftest.tail(1).index)\n",
        "dftest['Target'] = dftest['Change']\n",
        "dftest = dftest[['Time', 'Open', 'High', 'Low', 'Last', 'Volume', 'Target']]\n",
        "dftest.head()"
      ],
      "execution_count": 0,
      "outputs": []
    },
    {
      "cell_type": "code",
      "metadata": {
        "id": "KJY00lu_fa7N",
        "colab_type": "code",
        "colab": {}
      },
      "source": [
        "#Feature Engineering\n",
        "#Initialize Bollinger Bands\n",
        "indicator_bb = ta.volatility.BollingerBands(close = dftest[\"Last\"], n=20, ndev=2)\n",
        "\n",
        "#Add Bollinger Bands features\n",
        "dftest['bbMAV'] = indicator_bb.bollinger_mavg()\n",
        "dftest['bbHiBand'] = indicator_bb.bollinger_hband()\n",
        "dftest['bbLoBand'] = indicator_bb.bollinger_lband()\n",
        "\n",
        "#Initialize Relative Strength Index\n",
        "indicator_rsi = ta.momentum.RSIIndicator(close = dftest[\"Last\"], n = 14, fillna = False)\n",
        "\n",
        "#Add Relative Strength Index feature\n",
        "dftest['RSI'] = indicator_rsi.rsi()\n",
        "\n",
        "#Initialize On Balance Volume\n",
        "indicator_obv = ta.volume.OnBalanceVolumeIndicator(close = dftest['Last'], volume = dftest['Volume'], fillna = False)\n",
        "\n",
        "#Add On Balance Volume feature\n",
        "dftest['OBV'] = indicator_obv.on_balance_volume()\n",
        "\n",
        "dftest.head()"
      ],
      "execution_count": 0,
      "outputs": []
    },
    {
      "cell_type": "code",
      "metadata": {
        "id": "gnYpwcpJfxba",
        "colab_type": "code",
        "colab": {}
      },
      "source": [
        "#Data Processing\n",
        "dftest['Date'] = pd.to_datetime(dftest['Time'], yearfirst = True, format = None)\n",
        "dftest['Year'] = dftest['Date'].dt.year\n",
        "dftest['Month'] = dftest['Date'].dt.month\n",
        "dftest['Day'] = dftest['Date'].dt.day\n",
        "dftest['Hour'] = dftest['Date'].dt.hour\n",
        "dftest['Minute'] = dftest['Date'].dt.minute\n",
        "dftest = dftest[['Year', 'Month', 'Day', 'Hour','Minute', 'Open', 'High', 'Low', 'Last', 'Volume', 'bbMAV', 'bbHiBand', 'bbLoBand', 'RSI', 'OBV', 'Target']]\n",
        "dftest.head()"
      ],
      "execution_count": 0,
      "outputs": []
    },
    {
      "cell_type": "code",
      "metadata": {
        "id": "HRuEgkOzgKub",
        "colab_type": "code",
        "colab": {}
      },
      "source": [
        "#Scale values to between 0 and 1 for easier handling\n",
        "from sklearn.preprocessing import StandardScaler, MinMaxScaler\n",
        "scaledFeatures =  MinMaxScaler().fit_transform(dftest)\n",
        "dftest = pd.DataFrame(scaledFeatures, columns = ['Year', 'Month', 'Day', 'Hour','Minute', 'Open', 'High', 'Low', 'Last', 'Volume', 'bbMAV', 'bbHiBand', 'bbLoBand', 'RSI', 'OBV', 'Target'])\n",
        "dataset = dftest.values\n",
        "print(dataset)\n",
        "print(len(dataset))"
      ],
      "execution_count": 0,
      "outputs": []
    },
    {
      "cell_type": "code",
      "metadata": {
        "id": "3QME5eBYhI6N",
        "colab_type": "code",
        "colab": {}
      },
      "source": [
        "#Choose a number of time steps\n",
        "n_steps = 3\n",
        "#Split into samples\n",
        "X, y = split_sequences(dataset, n_steps)\n",
        "\n",
        "print(X)\n",
        "print(y)"
      ],
      "execution_count": 0,
      "outputs": []
    },
    {
      "cell_type": "code",
      "metadata": {
        "id": "YXvInUPKh5R0",
        "colab_type": "code",
        "colab": {}
      },
      "source": [
        "#Reshape from [samples, timesteps] into [samples, batch, timesteps, features]\n",
        "n_features = 15\n",
        "batch = 1\n",
        "n_steps = 3\n",
        "X = X.reshape((X.shape[0], batch, n_steps, n_features))\n",
        "print(X.shape)\n",
        "print(len(X))\n",
        "print(len(y))"
      ],
      "execution_count": 0,
      "outputs": []
    },
    {
      "cell_type": "code",
      "metadata": {
        "id": "ufl8cnS3hbth",
        "colab_type": "code",
        "colab": {}
      },
      "source": [
        "ytest = model.predict_classes(X, verbose=1)\n",
        "print(ytest)"
      ],
      "execution_count": 0,
      "outputs": []
    },
    {
      "cell_type": "code",
      "metadata": {
        "id": "JdpT2hN3hm5A",
        "colab_type": "code",
        "colab": {}
      },
      "source": [
        "#Precision tp / (tp + fp)\n",
        "precision = precision_score(y, ytest)\n",
        "print('Precision: %f' % precision)\n",
        "#Recall: tp / (tp + fn)\n",
        "recall = recall_score(y, ytest)\n",
        "print('Recall: %f' % recall)"
      ],
      "execution_count": 0,
      "outputs": []
    },
    {
      "cell_type": "code",
      "metadata": {
        "id": "H38ic979Uwls",
        "colab_type": "code",
        "colab": {}
      },
      "source": [
        ""
      ],
      "execution_count": 0,
      "outputs": []
    }
  ]
}